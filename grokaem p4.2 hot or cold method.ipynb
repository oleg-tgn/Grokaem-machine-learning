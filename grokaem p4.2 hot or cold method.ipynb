{
 "cells": [
  {
   "cell_type": "code",
   "execution_count": 28,
   "id": "fe451409-2ec6-4bc4-892e-4353941d1b15",
   "metadata": {},
   "outputs": [],
   "source": [
    "weight = 0.1\n",
    "\n",
    "lr = 0.01\n",
    "\n",
    "def neural_network(input, weight):\n",
    "    prediction = input * weight\n",
    "    return prediction\n"
   ]
  },
  {
   "cell_type": "code",
   "execution_count": 29,
   "id": "deb0ee35-bb72-4c2e-acf0-ffe69cf65c12",
   "metadata": {},
   "outputs": [
    {
     "name": "stdout",
     "output_type": "stream",
     "text": [
      "Pred: 0.8500000000000001\n",
      "Error: 0.022499999999999975\n"
     ]
    }
   ],
   "source": [
    "number_of_toes = [8.5]\n",
    "win_or_lose_binary = [1] # подада\n",
    "\n",
    "input = number_of_toes[0]\n",
    "true = win_or_lose_binary[0]\n",
    "\n",
    "pred = neural_network(input, weight)\n",
    "print(\"Pred:\", pred)\n",
    "error = (pred - true) ** 2\n",
    "print(\"Error:\", error)"
   ]
  },
  {
   "cell_type": "code",
   "execution_count": 30,
   "id": "d0642f2c-4eb3-47ff-9eeb-837a2e57e46f",
   "metadata": {},
   "outputs": [
    {
     "name": "stdout",
     "output_type": "stream",
     "text": [
      "Weight Up Error: 0.004224999999999993\n"
     ]
    }
   ],
   "source": [
    "# получение прогноза с увеличением значением веса \n",
    "# и вычисление ошибки\n",
    "\n",
    "lr = 0.01\n",
    "\n",
    "p_up = neural_network(input, weight + lr) \n",
    "\n",
    "e_up = (p_up - true) ** 2\n",
    "print(\"Weight Up Error:\", e_up)"
   ]
  },
  {
   "cell_type": "code",
   "execution_count": 31,
   "id": "3058b3a0-a60d-45ba-a6ae-077bec0faffe",
   "metadata": {},
   "outputs": [
    {
     "name": "stdout",
     "output_type": "stream",
     "text": [
      "Weight Down Error: 0.05522499999999994\n"
     ]
    }
   ],
   "source": [
    "# получение прогноза с уменьшением значением веса \n",
    "# и вычисление ошибки\n",
    "\n",
    "lr = 0.01\n",
    "\n",
    "p_dn = neural_network(input, weight - lr) \n",
    "\n",
    "e_dn = (p_dn - true) ** 2\n",
    "print(\"Weight Down Error:\", e_dn)"
   ]
  },
  {
   "cell_type": "code",
   "execution_count": 32,
   "id": "f859deb6-f144-4b38-970e-d6caae82474f",
   "metadata": {},
   "outputs": [
    {
     "name": "stdout",
     "output_type": "stream",
     "text": [
      "Error: 0.022499999999999975\n",
      "Weight Up Error: 0.004224999999999993\n",
      "Weight Down Error: 0.05522499999999994\n"
     ]
    }
   ],
   "source": [
    "print(\"Error:\", error)\n",
    "print(\"Weight Up Error:\", e_up)\n",
    "print(\"Weight Down Error:\", e_dn)"
   ]
  },
  {
   "cell_type": "code",
   "execution_count": 33,
   "id": "6d07751e-fb13-42fd-b1e8-cdac6b0e5b37",
   "metadata": {},
   "outputs": [],
   "source": [
    "if (error > e_dn or error > e_up):\n",
    "    if (e_dn < e_up):\n",
    "        weight -= lr\n",
    "    if (e_dn > e_up):\n",
    "        weight += lr"
   ]
  },
  {
   "cell_type": "code",
   "execution_count": 34,
   "id": "29133f69-3117-4b80-99f8-6333c759bfdd",
   "metadata": {},
   "outputs": [
    {
     "data": {
      "text/plain": [
       "0.11"
      ]
     },
     "execution_count": 34,
     "metadata": {},
     "output_type": "execute_result"
    }
   ],
   "source": [
    "weight"
   ]
  },
  {
   "cell_type": "code",
   "execution_count": null,
   "id": "9e4987f3-a3ea-43e8-9a2b-5e9379ab130f",
   "metadata": {},
   "outputs": [],
   "source": []
  }
 ],
 "metadata": {
  "kernelspec": {
   "display_name": "Python 3",
   "language": "python",
   "name": "python3"
  },
  "language_info": {
   "codemirror_mode": {
    "name": "ipython",
    "version": 3
   },
   "file_extension": ".py",
   "mimetype": "text/x-python",
   "name": "python",
   "nbconvert_exporter": "python",
   "pygments_lexer": "ipython3",
   "version": "3.8.8"
  }
 },
 "nbformat": 4,
 "nbformat_minor": 5
}
