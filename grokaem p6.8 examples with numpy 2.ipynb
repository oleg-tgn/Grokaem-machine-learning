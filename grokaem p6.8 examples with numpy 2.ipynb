{
 "cells": [
  {
   "cell_type": "code",
   "execution_count": 4,
   "id": "b8d89e65-912b-4bd4-adc7-2df1181895da",
   "metadata": {},
   "outputs": [
    {
     "name": "stdout",
     "output_type": "stream",
     "text": [
      "[-0.3   0.47 -1.    0.  ]\n"
     ]
    }
   ],
   "source": [
    "import numpy as np\n",
    "\n",
    "weights_0_1 = np.array([ [ -0.1,  0.4, -0.9, -0.3 ],\n",
    "                       [ -0.7, -0.8, -0.6, -0.3 ],\n",
    "                       [ -0.2, 0.07, -0.1,  0.3 ] ] )\n",
    "\n",
    "\n",
    "\n",
    "streetlights = np.array( [ [ 1, 0, 1 ],\n",
    "                            [ 0, 1, 1 ],\n",
    "                            [ 0, 0, 1 ],\n",
    "                            [ 1, 1, 1 ]])\n",
    "layer_0 = streetlights[0]\n",
    "layer_l = np.dot(layer_0, weights_0_1)\n",
    "\n",
    "print(layer_l)"
   ]
  },
  {
   "cell_type": "code",
   "execution_count": null,
   "id": "0ce52d76-f0ad-4ef4-9e9b-965ac1466002",
   "metadata": {},
   "outputs": [],
   "source": [
    "layer_l"
   ]
  },
  {
   "cell_type": "code",
   "execution_count": null,
   "id": "4465b7e9-93a9-4e33-8a24-16affc590e79",
   "metadata": {},
   "outputs": [],
   "source": []
  }
 ],
 "metadata": {
  "kernelspec": {
   "display_name": "Python 3",
   "language": "python",
   "name": "python3"
  },
  "language_info": {
   "codemirror_mode": {
    "name": "ipython",
    "version": 3
   },
   "file_extension": ".py",
   "mimetype": "text/x-python",
   "name": "python",
   "nbconvert_exporter": "python",
   "pygments_lexer": "ipython3",
   "version": "3.8.8"
  }
 },
 "nbformat": 4,
 "nbformat_minor": 5
}
