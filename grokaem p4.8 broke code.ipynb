{
 "cells": [
  {
   "cell_type": "code",
   "execution_count": 16,
   "id": "fe451409-2ec6-4bc4-892e-4353941d1b15",
   "metadata": {},
   "outputs": [
    {
     "name": "stdout",
     "output_type": "stream",
     "text": [
      "Error:342.25 Prediction:1.5\n",
      "Error:3.422 Prediction:18.15\n",
      "Error:0.034 Prediction:19.815\n",
      "Error:0.0 Prediction:19.982\n",
      "Error:0.0 Prediction:19.998\n",
      "Error:0.0 Prediction:20.0\n",
      "Error:0.0 Prediction:20.0\n",
      "Error:0.0 Prediction:20.0\n",
      "Error:0.0 Prediction:20.0\n",
      "Error:0.0 Prediction:20.0\n",
      "Error:0.0 Prediction:20.0\n",
      "Error:0.0 Prediction:20.0\n",
      "Error:0.0 Prediction:20.0\n",
      "Error:0.0 Prediction:20.0\n",
      "Error:0.0 Prediction:20.0\n",
      "Error:0.0 Prediction:20.0\n",
      "Error:0.0 Prediction:20.0\n",
      "Error:0.0 Prediction:20.0\n",
      "Error:0.0 Prediction:20.0\n",
      "Error:0.0 Prediction:20.0\n",
      "Error:0.0 Prediction:20.0\n",
      "Error:0.0 Prediction:20.0\n",
      "Error:0.0 Prediction:20.0\n",
      "Error:0.0 Prediction:20.0\n",
      "Error:0.0 Prediction:20.0\n",
      "Error:0.0 Prediction:20.0\n",
      "Error:0.0 Prediction:20.0\n",
      "Error:0.0 Prediction:20.0\n",
      "Error:0.0 Prediction:20.0\n",
      "Error:0.0 Prediction:20.0\n"
     ]
    }
   ],
   "source": [
    "weight = 0.5\n",
    "goal_pred = 20\n",
    "input = 3\n",
    "alpha = 0.1\n",
    "         \n",
    "for iteration in range(30):\n",
    "    pred = input * weight\n",
    "    error = (pred - goal_pred) ** 2\n",
    "    delta = pred - goal_pred\n",
    "    weight_delta = delta * input\n",
    "    weight = weight - weight_delta * alpha\n",
    "    print(\"Error:\" + str(round(error, 3)) + \" Prediction:\" + str(round(pred, 3)))\n"
   ]
  },
  {
   "cell_type": "code",
   "execution_count": null,
   "id": "30386546-104e-483a-91b7-f66a1af3c5d6",
   "metadata": {},
   "outputs": [],
   "source": []
  }
 ],
 "metadata": {
  "kernelspec": {
   "display_name": "Python 3",
   "language": "python",
   "name": "python3"
  },
  "language_info": {
   "codemirror_mode": {
    "name": "ipython",
    "version": 3
   },
   "file_extension": ".py",
   "mimetype": "text/x-python",
   "name": "python",
   "nbconvert_exporter": "python",
   "pygments_lexer": "ipython3",
   "version": "3.8.8"
  }
 },
 "nbformat": 4,
 "nbformat_minor": 5
}
