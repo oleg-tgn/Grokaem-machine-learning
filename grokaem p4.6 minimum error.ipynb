{
 "cells": [
  {
   "cell_type": "code",
   "execution_count": 6,
   "id": "fe451409-2ec6-4bc4-892e-4353941d1b15",
   "metadata": {},
   "outputs": [
    {
     "name": "stdout",
     "output_type": "stream",
     "text": [
      "Error:0.6400000000000001 Prediction:0.0\n",
      "Error:0.3600000000000001 Prediction:0.2\n",
      "Error:0.2025 Prediction:0.35000000000000003\n",
      "Error:0.11390625000000001 Prediction:0.4625\n",
      "Error:0.06407226562500003 Prediction:0.546875\n",
      "Error:0.036040649414062535 Prediction:0.61015625\n",
      "Error:0.020272865295410177 Prediction:0.6576171875\n",
      "Error:0.011403486728668217 Prediction:0.693212890625\n",
      "Error:0.006414461284875877 Prediction:0.71990966796875\n",
      "Error:0.0036081344727426873 Prediction:0.7399322509765625\n",
      "Error:0.0020295756409177616 Prediction:0.7549491882324219\n",
      "Error:0.001141636298016239 Prediction:0.7662118911743164\n",
      "Error:0.0006421704176341359 Prediction:0.7746589183807373\n",
      "Error:0.00036122085991920354 Prediction:0.7809941887855529\n",
      "Error:0.000203186733704552 Prediction:0.7857456415891647\n",
      "Error:0.0001142925377088099 Prediction:0.7893092311918736\n",
      "Error:6.428955246120602e-05 Prediction:0.7919819233939052\n",
      "Error:3.616287325942905e-05 Prediction:0.7939864425454288\n",
      "Error:2.034161620842884e-05 Prediction:0.7954898319090716\n",
      "Error:1.1442159117241035e-05 Prediction:0.7966173739318038\n",
      "Error:6.436214503448224e-06 Prediction:0.7974630304488528\n",
      "Error:3.6203706581898368e-06 Prediction:0.7980972728366396\n",
      "Error:2.036458495231783e-06 Prediction:0.7985729546274797\n",
      "Error:1.1455079035678186e-06 Prediction:0.7989297159706098\n",
      "Error:6.443481957569426e-07 Prediction:0.7991972869779573\n",
      "Error:3.62445860113347e-07 Prediction:0.799397965233468\n",
      "Error:2.038757963137577e-07 Prediction:0.799548473925101\n",
      "Error:1.1468013542646991e-07 Prediction:0.7996613554438258\n",
      "Error:6.450757617737522e-08 Prediction:0.7997460165828694\n",
      "Error:3.6285511599773566e-08 Prediction:0.799809512437152\n"
     ]
    }
   ],
   "source": [
    "weight, goal_pred, input = (0.0, 0.8, 0.5)\n",
    "\n",
    "for iteration in range(30):\n",
    "    pred = input * weight\n",
    "    error = (pred - goal_pred) ** 2\n",
    "    delta = pred - goal_pred\n",
    "    weight_delta = delta * input\n",
    "    weight = weight - weight_delta\n",
    "    print(\"Error:\" + str(error) + \" Prediction:\" + str(pred))\n"
   ]
  },
  {
   "cell_type": "code",
   "execution_count": null,
   "id": "30386546-104e-483a-91b7-f66a1af3c5d6",
   "metadata": {},
   "outputs": [],
   "source": []
  }
 ],
 "metadata": {
  "kernelspec": {
   "display_name": "Python 3",
   "language": "python",
   "name": "python3"
  },
  "language_info": {
   "codemirror_mode": {
    "name": "ipython",
    "version": 3
   },
   "file_extension": ".py",
   "mimetype": "text/x-python",
   "name": "python",
   "nbconvert_exporter": "python",
   "pygments_lexer": "ipython3",
   "version": "3.8.8"
  }
 },
 "nbformat": 4,
 "nbformat_minor": 5
}
