{
 "cells": [
  {
   "cell_type": "code",
   "execution_count": 5,
   "id": "e4bafccc-6f76-4fbc-bcff-bb5ec8d063b8",
   "metadata": {},
   "outputs": [],
   "source": [
    "weight = [0.3, 0.2, 0.9]\n",
    "# прогноз вероятности травм\n",
    "# прогноз вероятности победы\n",
    "# прогноз вероятности огорчения\n",
    "\n",
    "def ele_mul(number, vector):\n",
    "    output = [0, 0, 0]\n",
    "    assert(len(output) == len(vector))\n",
    "    \n",
    "    for i in range(len(vector)):\n",
    "        output[i] = number * vector[i]\n",
    "        \n",
    "    return output\n",
    "\n",
    "    \n",
    "def neural_network(input, weight):\n",
    "    pred = ele_mul(input, weight)\n",
    "    return pred\n",
    "\n"
   ]
  },
  {
   "cell_type": "code",
   "execution_count": 6,
   "id": "8a740b8c-f3ec-47d7-a944-839c05c536a9",
   "metadata": {},
   "outputs": [
    {
     "name": "stdout",
     "output_type": "stream",
     "text": [
      "[0.195, 0.13, 0.5850000000000001]\n"
     ]
    }
   ],
   "source": [
    "\n",
    "wlrec = [0.65, 0.8, 0.8, 0.9] \n",
    "\n",
    "\n",
    "input = wlrec[0]\n",
    "pred = neural_network(input, weight)\n",
    "print(pred)"
   ]
  },
  {
   "cell_type": "code",
   "execution_count": 12,
   "id": "26d938c5-eb24-491f-b21f-b7cbcfa07796",
   "metadata": {},
   "outputs": [
    {
     "name": "stdout",
     "output_type": "stream",
     "text": [
      "[5.525, 7.6000000000000005, 7.920000000000001, 8.1]\n"
     ]
    }
   ],
   "source": []
  }
 ],
 "metadata": {
  "kernelspec": {
   "display_name": "Python 3",
   "language": "python",
   "name": "python3"
  },
  "language_info": {
   "codemirror_mode": {
    "name": "ipython",
    "version": 3
   },
   "file_extension": ".py",
   "mimetype": "text/x-python",
   "name": "python",
   "nbconvert_exporter": "python",
   "pygments_lexer": "ipython3",
   "version": "3.8.8"
  }
 },
 "nbformat": 4,
 "nbformat_minor": 5
}
