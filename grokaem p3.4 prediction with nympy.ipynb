{
 "cells": [
  {
   "cell_type": "code",
   "execution_count": 2,
   "id": "e4bafccc-6f76-4fbc-bcff-bb5ec8d063b8",
   "metadata": {},
   "outputs": [],
   "source": [
    "import numpy as np\n",
    "\n",
    "weight = np.array([0.1, 0.2, 0])\n",
    "\n",
    "def neural_network(input, weight):\n",
    "    prediction = input.dot(weight)\n",
    "    return prediction\n",
    "\n"
   ]
  },
  {
   "cell_type": "code",
   "execution_count": 3,
   "id": "8a740b8c-f3ec-47d7-a944-839c05c536a9",
   "metadata": {},
   "outputs": [
    {
     "name": "stdout",
     "output_type": "stream",
     "text": [
      "0.9800000000000001\n"
     ]
    }
   ],
   "source": [
    "toes = [8.5, 9.5, 9.9, 9.0] # среднее число игр\n",
    "wlrec = [0.65, 0.8, 0.8, 0.9] # процент побед\n",
    "nfans = [1.2, 1.3, 0.5, 1.0] # число болельщиков (млн)\n",
    "\n",
    "input = np.array([toes[0], wlrec[0], nfans[0]])\n",
    "pred = neural_network(input, weight)\n",
    "print(pred)"
   ]
  },
  {
   "cell_type": "code",
   "execution_count": 12,
   "id": "26d938c5-eb24-491f-b21f-b7cbcfa07796",
   "metadata": {},
   "outputs": [
    {
     "name": "stdout",
     "output_type": "stream",
     "text": [
      "[5.525, 7.6000000000000005, 7.920000000000001, 8.1]\n"
     ]
    }
   ],
   "source": []
  }
 ],
 "metadata": {
  "kernelspec": {
   "display_name": "Python 3",
   "language": "python",
   "name": "python3"
  },
  "language_info": {
   "codemirror_mode": {
    "name": "ipython",
    "version": 3
   },
   "file_extension": ".py",
   "mimetype": "text/x-python",
   "name": "python",
   "nbconvert_exporter": "python",
   "pygments_lexer": "ipython3",
   "version": "3.8.8"
  }
 },
 "nbformat": 4,
 "nbformat_minor": 5
}
