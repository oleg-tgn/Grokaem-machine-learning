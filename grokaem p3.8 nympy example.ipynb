{
 "cells": [
  {
   "cell_type": "code",
   "execution_count": 2,
   "id": "e4bafccc-6f76-4fbc-bcff-bb5ec8d063b8",
   "metadata": {},
   "outputs": [],
   "source": [
    "import numpy as np\n",
    "\n",
    "a = np.array([0,1,2,3]) # вектор\n",
    "b = np.array([4,5,6,7]) # вектор 2\n",
    "c = np.array([[0,1,2,3],\n",
    "             [4,5,6,7]]) # матрица\n",
    "   "
   ]
  },
  {
   "cell_type": "code",
   "execution_count": 3,
   "id": "2312b822-1e6e-44f1-ab7a-e7ac738533ad",
   "metadata": {},
   "outputs": [],
   "source": [
    "# матрица 2 x 4, заполненная нулями\n",
    "d = np.zeros((2,4)) \n",
    "\n",
    "# матрица 2 x 5, заполненная случайными числами от 0 до 1\n",
    "e = np.random.rand(2, 5) "
   ]
  },
  {
   "cell_type": "code",
   "execution_count": 4,
   "id": "85880f05-63f2-4f27-9d11-9976aa82c417",
   "metadata": {},
   "outputs": [
    {
     "name": "stdout",
     "output_type": "stream",
     "text": [
      "[0 1 2 3]\n",
      "[4 5 6 7]\n",
      "[[0 1 2 3]\n",
      " [4 5 6 7]]\n",
      "[[0. 0. 0. 0.]\n",
      " [0. 0. 0. 0.]]\n",
      "[[0.46126949 0.69744261 0.67971441 0.81474045 0.11815645]\n",
      " [0.4444697  0.40419272 0.28906387 0.97406111 0.27083371]]\n"
     ]
    }
   ],
   "source": [
    "print(a)\n",
    "print(b)\n",
    "print(c)\n",
    "print(d)\n",
    "print(e)"
   ]
  },
  {
   "cell_type": "code",
   "execution_count": 5,
   "id": "a35f74d2-d4ab-41d9-a660-ca520082f7d6",
   "metadata": {},
   "outputs": [
    {
     "name": "stdout",
     "output_type": "stream",
     "text": [
      "[0.  0.1 0.2 0.3]\n"
     ]
    }
   ],
   "source": [
    "# каждый элемент вектора умножается на 0.1\n",
    "print(a * 0.1)"
   ]
  },
  {
   "cell_type": "code",
   "execution_count": 6,
   "id": "8d60f994-7eae-47d3-a14a-c028ec863636",
   "metadata": {},
   "outputs": [
    {
     "name": "stdout",
     "output_type": "stream",
     "text": [
      "[[0.  0.2 0.4 0.6]\n",
      " [0.8 1.  1.2 1.4]]\n"
     ]
    }
   ],
   "source": [
    "# каждый элемент матрицы умножается на 0.2\n",
    "print(c * 0.2)"
   ]
  },
  {
   "cell_type": "code",
   "execution_count": 7,
   "id": "13f5888b-73ef-4828-9a6e-ff14aae40736",
   "metadata": {},
   "outputs": [
    {
     "name": "stdout",
     "output_type": "stream",
     "text": [
      "[ 0  5 12 21]\n"
     ]
    }
   ],
   "source": [
    "# поэлементное умножение a на b\n",
    "print(a * b)"
   ]
  },
  {
   "cell_type": "code",
   "execution_count": 8,
   "id": "eee1f048-ccd4-4822-a03f-286502998c14",
   "metadata": {},
   "outputs": [
    {
     "name": "stdout",
     "output_type": "stream",
     "text": [
      "[0.  1.  2.4 4.2]\n"
     ]
    }
   ],
   "source": [
    "# поэлементное умножение и x0.2\n",
    "print(a * b * 0.2)"
   ]
  },
  {
   "cell_type": "code",
   "execution_count": 9,
   "id": "e8545703-7cb9-4ba3-baf8-7e09337ea9b7",
   "metadata": {},
   "outputs": [
    {
     "name": "stdout",
     "output_type": "stream",
     "text": [
      "[[ 0  1  4  9]\n",
      " [ 0  5 12 21]]\n"
     ]
    }
   ],
   "source": [
    "# поэлементное умножение вектора a с каждой строкой \n",
    "# матрицы с, посколько имеет то же число столбцов, что и a\n",
    "print(a * c)"
   ]
  },
  {
   "cell_type": "code",
   "execution_count": 10,
   "id": "e1df5a50-40ca-446f-ac61-5adce62d2d2e",
   "metadata": {},
   "outputs": [
    {
     "ename": "ValueError",
     "evalue": "operands could not be broadcast together with shapes (4,) (2,5) ",
     "output_type": "error",
     "traceback": [
      "\u001b[1;31m---------------------------------------------------------------------------\u001b[0m",
      "\u001b[1;31mValueError\u001b[0m                                Traceback (most recent call last)",
      "\u001b[1;32m<ipython-input-10-31125d1fee52>\u001b[0m in \u001b[0;36m<module>\u001b[1;34m\u001b[0m\n\u001b[0;32m      1\u001b[0m \u001b[1;31m# разное число столбцов - ошибка\u001b[0m\u001b[1;33m\u001b[0m\u001b[1;33m\u001b[0m\u001b[1;33m\u001b[0m\u001b[0m\n\u001b[1;32m----> 2\u001b[1;33m \u001b[0mprint\u001b[0m\u001b[1;33m(\u001b[0m\u001b[0ma\u001b[0m \u001b[1;33m*\u001b[0m \u001b[0me\u001b[0m\u001b[1;33m)\u001b[0m\u001b[1;33m\u001b[0m\u001b[1;33m\u001b[0m\u001b[0m\n\u001b[0m",
      "\u001b[1;31mValueError\u001b[0m: operands could not be broadcast together with shapes (4,) (2,5) "
     ]
    }
   ],
   "source": [
    "# разное число столбцов - ошибка\n",
    "print(a * e)"
   ]
  },
  {
   "cell_type": "code",
   "execution_count": 27,
   "id": "ed623452-6ef8-45dd-8c96-8d52d5bd348a",
   "metadata": {},
   "outputs": [
    {
     "name": "stdout",
     "output_type": "stream",
     "text": [
      "(1, 3)\n",
      "[[0. 0. 0. 0.]]\n"
     ]
    }
   ],
   "source": [
    "x = np.zeros((1, 4))\n",
    "y = np.zeros((4,3))\n",
    "\n",
    "z = x.dot(y)\n",
    "print(z.shape)\n",
    "print(x)"
   ]
  },
  {
   "cell_type": "code",
   "execution_count": 15,
   "id": "5dd9f18d-ac11-48a9-9801-7d6979b4a1c5",
   "metadata": {},
   "outputs": [
    {
     "name": "stdout",
     "output_type": "stream",
     "text": [
      "[ 8  5 12 21]\n"
     ]
    }
   ],
   "source": [
    "import numpy as np\n",
    "\n",
    "a = np.array([2,1,2,3]) # вектор\n",
    "\n",
    "b = np.array([4,5,6,7]) # вектор 2\n",
    "\n",
    "c = np.array([[0,1,2,3],\n",
    "             [4,5,6,7]]) # матрица\n",
    "\n",
    "print(a * b)"
   ]
  },
  {
   "cell_type": "code",
   "execution_count": 17,
   "id": "14c3e818-ba04-44e6-aa83-165ed3668acd",
   "metadata": {},
   "outputs": [
    {
     "name": "stdout",
     "output_type": "stream",
     "text": [
      "46\n"
     ]
    }
   ],
   "source": [
    "k = a.dot(b)\n",
    "print(k)"
   ]
  },
  {
   "cell_type": "code",
   "execution_count": 20,
   "id": "28850c33-c7fe-42a1-aa47-c3a77903e7d5",
   "metadata": {},
   "outputs": [
    {
     "name": "stdout",
     "output_type": "stream",
     "text": [
      "46\n"
     ]
    }
   ],
   "source": [
    "j = b.dot(a)\n",
    "print(j)"
   ]
  },
  {
   "cell_type": "code",
   "execution_count": 21,
   "id": "5137e5bb-e3fa-455a-b101-28d0ec40a034",
   "metadata": {},
   "outputs": [
    {
     "name": "stdout",
     "output_type": "stream",
     "text": [
      "[[ 0  1  4  9]\n",
      " [ 8  5 12 21]]\n"
     ]
    }
   ],
   "source": [
    "print(a * c)"
   ]
  },
  {
   "cell_type": "code",
   "execution_count": 30,
   "id": "b71ef9a8-f203-4a52-8667-8822faadec23",
   "metadata": {},
   "outputs": [
    {
     "name": "stdout",
     "output_type": "stream",
     "text": [
      "(1, 4)\n",
      "[[14 46]]\n"
     ]
    }
   ],
   "source": [
    "a1 = np.array([a])\n",
    "print(a1.shape)\n",
    "\n",
    "print(a1.dot(c.T))"
   ]
  },
  {
   "cell_type": "code",
   "execution_count": null,
   "id": "e9123dbc-952a-4201-aed2-79ed4677d271",
   "metadata": {},
   "outputs": [],
   "source": []
  }
 ],
 "metadata": {
  "kernelspec": {
   "display_name": "Python 3",
   "language": "python",
   "name": "python3"
  },
  "language_info": {
   "codemirror_mode": {
    "name": "ipython",
    "version": 3
   },
   "file_extension": ".py",
   "mimetype": "text/x-python",
   "name": "python",
   "nbconvert_exporter": "python",
   "pygments_lexer": "ipython3",
   "version": "3.8.8"
  }
 },
 "nbformat": 4,
 "nbformat_minor": 5
}
