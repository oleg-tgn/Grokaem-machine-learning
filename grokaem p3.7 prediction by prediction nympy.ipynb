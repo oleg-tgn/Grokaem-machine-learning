{
 "cells": [
  {
   "cell_type": "code",
   "execution_count": 42,
   "id": "e4bafccc-6f76-4fbc-bcff-bb5ec8d063b8",
   "metadata": {},
   "outputs": [],
   "source": [
    "import numpy as np\n",
    "\n",
    "ih_wgt = np.array([ [0.1, 0.2, -0.1], # hid[0]\n",
    "           [-0.1, 0.1, 0.9], # hid[1]\n",
    "           [0.1, 0.4, 0.1] ]) # hid[2]\n",
    "            \n",
    "            #hid[0] hid[1] hid[2]\n",
    "hp_wgt = np.array([ [  0.3,   1.1,   -0.3  ], # травмы ?\n",
    "           [  0.1,   0.2,   0.0   ], # победа ? \n",
    "           [  0.0,   1.3,   0.1   ]]) # печаль ?\n",
    "\n",
    "weights = [ih_wgt, hp_wgt]\n",
    "\n",
    "def neural_network(input, weights):   \n",
    "    hid = input.dot(weights[0])\n",
    "    pred = hid.dot(weights[1])\n",
    "    return pred\n",
    "   "
   ]
  },
  {
   "cell_type": "code",
   "execution_count": 41,
   "id": "e0c6d1c1-9d22-4313-9f53-63afb9c9be98",
   "metadata": {},
   "outputs": [
    {
     "name": "stdout",
     "output_type": "stream",
     "text": [
      "[2.905, 0.9800000000000001, 0.9650000000000001]\n"
     ]
    }
   ],
   "source": [
    "toes  = np.array([8.5, 9.5, 9.9, 9.0])\n",
    "wlrec = np.array([0.65, 0.8, 0.8, 0.9])\n",
    "nfans = np.array([1.2, 1.3, 0.5, 1.0])\n",
    "\n",
    "input = np.array([toes[0], wlrec[0], nfans[0]])\n",
    "\n",
    "pred = neural_network(input, weights)\n",
    "print(pred)"
   ]
  },
  {
   "cell_type": "code",
   "execution_count": null,
   "id": "2312b822-1e6e-44f1-ab7a-e7ac738533ad",
   "metadata": {},
   "outputs": [],
   "source": []
  }
 ],
 "metadata": {
  "kernelspec": {
   "display_name": "Python 3",
   "language": "python",
   "name": "python3"
  },
  "language_info": {
   "codemirror_mode": {
    "name": "ipython",
    "version": 3
   },
   "file_extension": ".py",
   "mimetype": "text/x-python",
   "name": "python",
   "nbconvert_exporter": "python",
   "pygments_lexer": "ipython3",
   "version": "3.8.8"
  }
 },
 "nbformat": 4,
 "nbformat_minor": 5
}
