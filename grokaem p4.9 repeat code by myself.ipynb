{
 "cells": [
  {
   "cell_type": "code",
   "execution_count": 21,
   "id": "a8847969-375b-4746-a6aa-676d14e74f1c",
   "metadata": {},
   "outputs": [
    {
     "name": "stdout",
     "output_type": "stream",
     "text": [
      "Prediction: 0.25 Error: 999500.062 Weight: 500.375\n",
      "Prediction: 250.188 Error: 562218.785 Weight: 875.281\n",
      "Prediction: 437.641 Error: 316248.067 Weight: 1156.461\n",
      "Prediction: 578.23 Error: 177889.537 Weight: 1367.346\n",
      "Prediction: 683.673 Error: 100062.865 Weight: 1525.509\n",
      "Prediction: 762.755 Error: 56285.361 Weight: 1644.132\n",
      "Prediction: 822.066 Error: 31660.516 Weight: 1733.099\n",
      "Prediction: 866.549 Error: 17809.04 Weight: 1799.824\n",
      "Prediction: 899.912 Error: 10017.585 Weight: 1849.868\n",
      "Prediction: 924.934 Error: 5634.892 Weight: 1887.401\n",
      "Prediction: 943.701 Error: 3169.627 Weight: 1915.551\n",
      "Prediction: 957.775 Error: 1782.915 Weight: 1936.663\n",
      "Prediction: 968.332 Error: 1002.89 Weight: 1952.497\n",
      "Prediction: 976.249 Error: 564.125 Weight: 1964.373\n",
      "Prediction: 982.187 Error: 317.321 Weight: 1973.28\n",
      "Prediction: 986.64 Error: 178.493 Weight: 1979.96\n",
      "Prediction: 989.98 Error: 100.402 Weight: 1984.97\n",
      "Prediction: 992.485 Error: 56.476 Weight: 1988.727\n",
      "Prediction: 994.364 Error: 31.768 Weight: 1991.546\n",
      "Prediction: 995.773 Error: 17.869 Weight: 1993.659\n",
      "Prediction: 996.83 Error: 10.052 Weight: 1995.244\n",
      "Prediction: 997.622 Error: 5.654 Weight: 1996.433\n",
      "Prediction: 998.217 Error: 3.18 Weight: 1997.325\n",
      "Prediction: 998.662 Error: 1.789 Weight: 1997.994\n",
      "Prediction: 998.997 Error: 1.006 Weight: 1998.495\n",
      "Prediction: 999.248 Error: 0.566 Weight: 1998.871\n",
      "Prediction: 999.436 Error: 0.318 Weight: 1999.154\n",
      "Prediction: 999.577 Error: 0.179 Weight: 1999.365\n",
      "Prediction: 999.683 Error: 0.101 Weight: 1999.524\n",
      "Prediction: 999.762 Error: 0.057 Weight: 1999.643\n"
     ]
    }
   ],
   "source": [
    "input = 0.5\n",
    "goal_pred = 1000\n",
    "\n",
    "weight = 0.5\n",
    "alpha = 1\n",
    "\n",
    "for i in range(30):   \n",
    "    pred = input * weight\n",
    "    error = (pred - goal_pred) ** 2\n",
    "    step_weight = (pred - goal_pred) * input * alpha\n",
    "    weight -= step_weight\n",
    "    print(f\"Prediction: {round(pred, 3)} Error: {round(error, 3)} Weight: {round(weight, 3)}\")"
   ]
  },
  {
   "cell_type": "code",
   "execution_count": null,
   "id": "1f68ea56-6254-4192-aca4-cf257d42520d",
   "metadata": {},
   "outputs": [],
   "source": []
  }
 ],
 "metadata": {
  "kernelspec": {
   "display_name": "Python 3",
   "language": "python",
   "name": "python3"
  },
  "language_info": {
   "codemirror_mode": {
    "name": "ipython",
    "version": 3
   },
   "file_extension": ".py",
   "mimetype": "text/x-python",
   "name": "python",
   "nbconvert_exporter": "python",
   "pygments_lexer": "ipython3",
   "version": "3.8.8"
  }
 },
 "nbformat": 4,
 "nbformat_minor": 5
}
