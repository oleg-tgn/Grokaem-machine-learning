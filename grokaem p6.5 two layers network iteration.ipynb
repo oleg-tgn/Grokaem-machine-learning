{
 "cells": [
  {
   "cell_type": "code",
   "execution_count": 16,
   "id": "b8d89e65-912b-4bd4-adc7-2df1181895da",
   "metadata": {},
   "outputs": [
    {
     "name": "stdout",
     "output_type": "stream",
     "text": [
      "delta_1:\n",
      "  [[-0.     0.455 -0.     0.   ]]\n",
      "layer_0.T:\n",
      "  [[1]\n",
      " [0]\n",
      " [1]]\n",
      "layer_0.T.dot(delta_1):\n",
      "  [[-0.     0.455 -0.     0.   ]\n",
      " [-0.     0.    -0.     0.   ]\n",
      " [-0.     0.455 -0.     0.   ]]\n",
      "layer_0.T.dot(delta_1):\n",
      "  [[-0.     0.455 -0.     0.   ]\n",
      " [-0.     0.    -0.     0.   ]\n",
      " [-0.     0.455 -0.     0.   ]]\n",
      "delta_1:\n",
      "  [[-0.     0.    -0.     0.291]]\n",
      "layer_0.T:\n",
      "  [[0]\n",
      " [1]\n",
      " [1]]\n",
      "layer_0.T.dot(delta_1):\n",
      "  [[-0.     0.    -0.     0.   ]\n",
      " [-0.     0.    -0.     0.291]\n",
      " [-0.     0.    -0.     0.291]]\n",
      "layer_0.T.dot(delta_1):\n",
      "  [[-0.     0.    -0.     0.   ]\n",
      " [-0.     0.    -0.     0.291]\n",
      " [-0.     0.    -0.     0.291]]\n",
      "delta_1:\n",
      "  [[ 0.         -0.22373502  0.         -0.09341303]]\n",
      "layer_0.T:\n",
      "  [[0]\n",
      " [0]\n",
      " [1]]\n",
      "layer_0.T.dot(delta_1):\n",
      "  [[ 0.         -0.          0.         -0.        ]\n",
      " [ 0.         -0.          0.         -0.        ]\n",
      " [ 0.         -0.22373502  0.         -0.09341303]]\n",
      "layer_0.T.dot(delta_1):\n",
      "  [[ 0.         -0.          0.         -0.        ]\n",
      " [ 0.         -0.          0.         -0.        ]\n",
      " [ 0.         -0.22373502  0.         -0.09341303]]\n",
      "delta_1:\n",
      "  [[0. 0. 0. 0.]]\n",
      "layer_0.T:\n",
      "  [[1]\n",
      " [1]\n",
      " [1]]\n",
      "layer_0.T.dot(delta_1):\n",
      "  [[0. 0. 0. 0.]\n",
      " [0. 0. 0. 0.]\n",
      " [0. 0. 0. 0.]]\n",
      "layer_0.T.dot(delta_1):\n",
      "  [[0. 0. 0. 0.]\n",
      " [0. 0. 0. 0.]\n",
      " [0. 0. 0. 0.]]\n",
      "1.4489352380902463\n"
     ]
    }
   ],
   "source": [
    "import numpy as np\n",
    "\n",
    "np.random.seed(1)\n",
    "\n",
    "def relu(x):\n",
    "    return (x > 0) * x # вернет x если он положительный либо 0\n",
    "\n",
    "def relu2deriv(output):\n",
    "    return output > 0 # возвращает 1 если больше нуля, иначе 0\n",
    "\n",
    "alpha = 0.2\n",
    "\n",
    "streetlights = np.array( [[ 1, 0, 1 ],\n",
    "                          [ 0, 1, 1 ],\n",
    "                          [ 0, 0, 1 ],\n",
    "                          [ 1, 1, 1 ] ] )\n",
    "\n",
    "walk_vs_stop = np.array([[ 1, 1, 0, 0]]).T\n",
    "\n",
    "#weights_1 = 2 * np.random.random((3, 4)) - 1\n",
    "#weights_2 = 2 * np.random.random((4, 1)) - 1\n",
    "\n",
    "\n",
    "weights_1 = np.array([ [ -0.2,  0.4, -0.9, -0.4 ],\n",
    "                       [ -0.7, -0.8, -0.6, -0.3 ],\n",
    "                       [ -0.2, 0.1, -0.2,  0.4 ] ] )\n",
    "\n",
    "weights_2 = np.array([ [ -0.6, 0.7, -0.9, 0.3 ] ]).T\n",
    "\n",
    "\n",
    "for iteration in range(1):\n",
    "    sum_error = 0\n",
    "    \n",
    "    for i in range(len(streetlights)):\n",
    "        layer_0 = streetlights[i:i+1] # чтобы получить массив вида [[1, 0, 1]] вместо [1, 0, 1]\n",
    "        layer_1 = relu(np.dot(layer_0, weights_1))        \n",
    "        layer_2 = np.dot(layer_1, weights_2)\n",
    "        \n",
    "        sum_error += np.sum((layer_2 - walk_vs_stop[i:i+1]) ** 2)\n",
    "        \n",
    "        delta_2 = walk_vs_stop[i:i+1] - layer_2\n",
    "        delta_1 = delta_2.dot(weights_2.T)*relu2deriv(layer_1)\n",
    "        print(\"delta_1:\\n \", delta_1)\n",
    "        \n",
    "        print(\"layer_0.T:\\n \", layer_0.T)\n",
    "        \n",
    "    #    print(\"layer_1.T:\\n \", layer_1.T)\n",
    "            \n",
    "        weights_2 += alpha * layer_1.T.dot(delta_2)\n",
    "        weights_1 += alpha * layer_0.T.dot(delta_1)  \n",
    "        \n",
    "       # print(\"layer_1.T.dot(delta_2):\\n \", layer_1.T.dot(delta_2))\n",
    "        print(\"layer_0.T.dot(delta_1):\\n \", layer_0.T.dot(delta_1))\n",
    "        print(\"layer_0.T.dot(delta_1):\\n \", np.dot(layer_0.T, delta_1))\n",
    "                \n",
    "    print(sum_error)\n",
    "       "
   ]
  },
  {
   "cell_type": "code",
   "execution_count": 51,
   "id": "e52c785c-2f14-4b8a-b911-07b985b77eb4",
   "metadata": {},
   "outputs": [
    {
     "data": {
      "text/plain": [
       "array([ True, False,  True])"
      ]
     },
     "execution_count": 51,
     "metadata": {},
     "output_type": "execute_result"
    }
   ],
   "source": [
    "relu2deriv(np.array([5, -4, 7]))"
   ]
  },
  {
   "cell_type": "code",
   "execution_count": null,
   "id": "8060938b-470e-4ac3-a68a-4edc37fcade2",
   "metadata": {},
   "outputs": [],
   "source": []
  }
 ],
 "metadata": {
  "kernelspec": {
   "display_name": "Python 3",
   "language": "python",
   "name": "python3"
  },
  "language_info": {
   "codemirror_mode": {
    "name": "ipython",
    "version": 3
   },
   "file_extension": ".py",
   "mimetype": "text/x-python",
   "name": "python",
   "nbconvert_exporter": "python",
   "pygments_lexer": "ipython3",
   "version": "3.8.8"
  }
 },
 "nbformat": 4,
 "nbformat_minor": 5
}
