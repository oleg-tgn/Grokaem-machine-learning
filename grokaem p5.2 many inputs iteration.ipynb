{
 "cells": [
  {
   "cell_type": "code",
   "execution_count": 2,
   "id": "1f68ea56-6254-4192-aca4-cf257d42520d",
   "metadata": {},
   "outputs": [],
   "source": [
    "def neural_network(input, weights):\n",
    "    # средневзвешеннная сумма\n",
    "    out = 0\n",
    "    for i in range(len(input)):\n",
    "        out += (input[i] * weights[i])    \n",
    "    return out"
   ]
  },
  {
   "cell_type": "code",
   "execution_count": 3,
   "id": "56d71fbe-bb02-4c23-a394-f31255bb5339",
   "metadata": {},
   "outputs": [],
   "source": [
    "def ele_mul(number, vector):\n",
    "    output = [0,0,0]\n",
    "    assert(len(output) == len(vector))\n",
    "    \n",
    "    for i in range(len(vector)):\n",
    "        output[i] = number * vector[i]\n",
    "    return output"
   ]
  },
  {
   "cell_type": "code",
   "execution_count": 98,
   "id": "d2d6fb48-84aa-4b24-9f37-ef09e425471d",
   "metadata": {},
   "outputs": [
    {
     "name": "stdout",
     "output_type": "stream",
     "text": [
      "Iteration: 1\n",
      "Pred: 0.86\n",
      "Error: 0.02\n",
      "Delta: -0.14\n",
      "Weights: [0.1, 0.2, -0.1]\n",
      "Weights_Deltas:[-1.189999999999999, -0.09099999999999994, -0.16799999999999987]\n",
      "-------------------------\n",
      "Iteration: 2\n",
      "Pred: 0.964\n",
      "Error: 0.001\n",
      "Delta: -0.036\n",
      "Weights: [0.1119, 0.20091, -0.09832]\n",
      "Weights_Deltas:[-0.30806125000000056, -0.023557625000000044, -0.04349100000000008]\n",
      "-------------------------\n",
      "Iteration: 3\n",
      "Pred: 0.991\n",
      "Error: 0.0\n",
      "Delta: -0.009\n",
      "Weights: [0.11498061250000001, 0.20114557625, -0.09788509000000001]\n",
      "Weights_Deltas:[-0.07974935609374867, -0.006098480171874899, -0.011258732624999811]\n",
      "-------------------------\n"
     ]
    }
   ],
   "source": [
    "toes = [8.5, 9.5, 9.9, 9.0]\n",
    "wlrec = [0.65, 0.8, 0.8, 0.9]\n",
    "nfans = [1.2, 1.3, 0.5, 1.0]\n",
    "\n",
    "win_or_lose_binary = [1, 1, 0, 1]\n",
    "true = win_or_lose_binary[0]\n",
    "\n",
    "alpha = 0.01\n",
    "weights = [0.1, 0.2, -.1]\n",
    "input = [toes[0], wlrec[0], nfans[0]]\n",
    "\n",
    "\n",
    "xA = [] \n",
    "xB = [] \n",
    "xC = [] \n",
    "y  = []\n",
    "\n",
    "for iter in range(3):\n",
    "    pred = neural_network(input, weights)\n",
    "    error = (pred - true) ** 2\n",
    "    delta = pred - true\n",
    "\n",
    "    # вычисление корректирующего веса\n",
    "    weight_deltas = ele_mul(delta, input)\n",
    "\n",
    "    print(\"Iteration: \" + str(iter+1))\n",
    "    print(\"Pred: \" + str(round(pred, 3)))\n",
    "    print(\"Error: \" + str(round(error, 3)))\n",
    "    print(\"Delta: \" + str(round(delta, 3)))\n",
    "    print(\"Weights: \" + str(weights))\n",
    "    print(\"Weights_Deltas:\" + str(weight_deltas))\n",
    "    print(\"-------------------------\")\n",
    "    \n",
    "    xA.append(weights[0])\n",
    "    xB.append(weights[1])\n",
    "    xC.append(weights[2])\n",
    "    y.append(error)\n",
    "    \n",
    "    # корректировка весов\n",
    "    for i in range(len(weights)):\n",
    "        weights[i] -= alpha * weight_deltas[i]"
   ]
  },
  {
   "cell_type": "code",
   "execution_count": 99,
   "id": "5ca30230-f734-418b-af03-4ac8eff9f9ac",
   "metadata": {},
   "outputs": [
    {
     "name": "stdout",
     "output_type": "stream",
     "text": [
      "[0.1, 0.1119, 0.11498061250000001]\n",
      "[0.2, 0.20091, 0.20114557625]\n",
      "[-0.1, -0.09832, -0.09788509000000001]\n"
     ]
    }
   ],
   "source": [
    "import matplotlib.pyplot as plt\n",
    "\n",
    "print(xA)\n",
    "print(xB)\n",
    "print(xC)"
   ]
  },
  {
   "cell_type": "code",
   "execution_count": 115,
   "id": "1e74abb0-8672-4f42-abd3-d3d5941ba398",
   "metadata": {},
   "outputs": [
    {
     "data": {
      "image/png": "[encoded data removed]",
      "text/plain": [
       "<Figure size 432x288 with 1 Axes>"
      ]
     },
     "metadata": {
      "needs_background": "light"
     },
     "output_type": "display_data"
    }
   ],
   "source": [
    "\n",
    "plt.plot(xA,y,color='r') #красный \n",
    "plt.plot(xB,y,color='b') #голубой\n",
    "plt.plot(xC,y,color='g') #зеленый\n",
    "plt.show()\n",
    "\n"
   ]
  },
  {
   "cell_type": "code",
   "execution_count": null,
   "id": "05c5c0ba-1df3-44ef-85ba-adc900514076",
   "metadata": {},
   "outputs": [],
   "source": []
  }
 ],
 "metadata": {
  "kernelspec": {
   "display_name": "Python 3",
   "language": "python",
   "name": "python3"
  },
  "language_info": {
   "codemirror_mode": {
    "name": "ipython",
    "version": 3
   },
   "file_extension": ".py",
   "mimetype": "text/x-python",
   "name": "python",
   "nbconvert_exporter": "python",
   "pygments_lexer": "ipython3",
   "version": "3.8.8"
  }
 },
 "nbformat": 4,
 "nbformat_minor": 5
}
