{
 "cells": [
  {
   "cell_type": "code",
   "execution_count": 2,
   "id": "fe451409-2ec6-4bc4-892e-4353941d1b15",
   "metadata": {},
   "outputs": [
    {
     "name": "stdout",
     "output_type": "stream",
     "text": [
      "Input: 1.1\n",
      "-----\n",
      "Weight:0.0\n",
      "Prediction:0.0\n",
      "Error: 0.64\n",
      "Delta: -0.8 \n",
      "Weight Delta: -0.8800000000000001\n",
      "-----\n",
      "Weight:0.88\n",
      "Prediction:0.9680000000000002\n",
      "Error: 0.0282\n",
      "Delta: 0.16800000000000015 \n",
      "Weight Delta: 0.1848000000000002\n",
      "-----\n",
      "Weight:0.6952\n",
      "Prediction:0.76472\n",
      "Error: 0.0012\n",
      "Delta: -0.03528000000000009 \n",
      "Weight Delta: -0.0388080000000001\n",
      "-----\n",
      "Weight:0.734\n",
      "Prediction:0.8074088\n",
      "Error: 0.0001\n",
      "Delta: 0.007408799999999993 \n",
      "Weight Delta: 0.008149679999999992\n"
     ]
    }
   ],
   "source": [
    "weight, goal_pred, input = (0.0, 0.8, 1.1)\n",
    "print(\"Input:\", input)\n",
    "for iteration in range(4):\n",
    "    print(\"-----\\nWeight:\" + str(round(weight, 4)))    \n",
    "    pred = input * weight\n",
    "    print(\"Prediction:\" + str(pred))\n",
    "    error = (pred - goal_pred) ** 2\n",
    "    delta = pred - goal_pred\n",
    "    weight_delta = delta * input\n",
    "    weight = weight - weight_delta\n",
    "    print(\"Error: \" + str(round(error, 4)))\n",
    "    print(\"Delta: \" + str(delta) + \" \\nWeight Delta: \" + str(weight_delta))\n"
   ]
  },
  {
   "cell_type": "code",
   "execution_count": null,
   "id": "30386546-104e-483a-91b7-f66a1af3c5d6",
   "metadata": {},
   "outputs": [],
   "source": []
  }
 ],
 "metadata": {
  "kernelspec": {
   "display_name": "Python 3",
   "language": "python",
   "name": "python3"
  },
  "language_info": {
   "codemirror_mode": {
    "name": "ipython",
    "version": 3
   },
   "file_extension": ".py",
   "mimetype": "text/x-python",
   "name": "python",
   "nbconvert_exporter": "python",
   "pygments_lexer": "ipython3",
   "version": "3.8.8"
  }
 },
 "nbformat": 4,
 "nbformat_minor": 5
}
