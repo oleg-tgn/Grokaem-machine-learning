{
 "cells": [
  {
   "cell_type": "code",
   "execution_count": 73,
   "id": "b8d89e65-912b-4bd4-adc7-2df1181895da",
   "metadata": {},
   "outputs": [
    {
     "name": "stdout",
     "output_type": "stream",
     "text": [
      "input[[8.5  0.65 1.2 ]]\n",
      "hid:[[ 0.   11.04 -2.43]]\n",
      "[[ 2.451 -1.083  4.173]]\n"
     ]
    }
   ],
   "source": [
    "\n",
    "import numpy as np\n",
    "\n",
    "\n",
    "# hid[0] hid[1] hid[2]\n",
    "weights_1 = np.array([  \n",
    "            [0.3, 1.1, -0.3, 0.1], #hurt?\n",
    "            [0.1, 0.2, 0.0, 0.2], #win?\n",
    "            [0.0, 1.3, 0.1] ]).T #sad?\n",
    "\n",
    "\n",
    "#toes %win #fans\n",
    "weights_2 = np.array([ \n",
    "            [0.1, 0.2, -0.1], #hid[0]\n",
    "            [0, 0.1, 0.9], #hid[1]\n",
    "            [0.1, 0.4, 0.1]]).T #hid[2]\n",
    "\n",
    "\n",
    "weights = [ih_wgt, hp_wgt]\n",
    "\n",
    "def neural_network(input, weights):\n",
    "\n",
    "    hid = input.dot(weights_1)\n",
    "    print(\"hid:\" + str(hid))\n",
    "    pred = hid.dot(weights_2)\n",
    "    return pred\n",
    "\n",
    "\n",
    "toes =  np.array([8.5, 9.5, 9.9, 9.0])\n",
    "wlrec = np.array([0.65,0.8, 0.8, 0.9])\n",
    "nfans = np.array([1.2, 1.3, 0.5, 1.0])\n",
    "\n",
    "input = np.array([ [ 8.5, 0.65, 1.2]  ] )\n",
    "\n",
    "print(\"input\" + str(input))\n",
    "\n",
    "pred = neural_network(input,weights)\n",
    "print(pred)"
   ]
  },
  {
   "cell_type": "code",
   "execution_count": null,
   "id": "0ce52d76-f0ad-4ef4-9e9b-965ac1466002",
   "metadata": {},
   "outputs": [],
   "source": []
  }
 ],
 "metadata": {
  "kernelspec": {
   "display_name": "Python 3",
   "language": "python",
   "name": "python3"
  },
  "language_info": {
   "codemirror_mode": {
    "name": "ipython",
    "version": 3
   },
   "file_extension": ".py",
   "mimetype": "text/x-python",
   "name": "python",
   "nbconvert_exporter": "python",
   "pygments_lexer": "ipython3",
   "version": "3.8.8"
  }
 },
 "nbformat": 4,
 "nbformat_minor": 5
}
