{
 "cells": [
  {
   "cell_type": "code",
   "execution_count": 1,
   "id": "1f68ea56-6254-4192-aca4-cf257d42520d",
   "metadata": {},
   "outputs": [],
   "source": [
    "def neural_network(input, weights):\n",
    "    # средневзвешеннная сумма\n",
    "    out = 0\n",
    "    for i in range(len(input)):\n",
    "        out += (input[i] * weights[i])    \n",
    "    return out"
   ]
  },
  {
   "cell_type": "code",
   "execution_count": 2,
   "id": "56d71fbe-bb02-4c23-a394-f31255bb5339",
   "metadata": {},
   "outputs": [],
   "source": [
    "def ele_mul(number, vector):\n",
    "    output = [0,0,0]\n",
    "    assert(len(output) == len(vector))\n",
    "    \n",
    "    for i in range(len(vector)):\n",
    "        output[i] = number * vector[i]\n",
    "    return output"
   ]
  },
  {
   "cell_type": "code",
   "execution_count": 3,
   "id": "d2d6fb48-84aa-4b24-9f37-ef09e425471d",
   "metadata": {},
   "outputs": [
    {
     "name": "stdout",
     "output_type": "stream",
     "text": [
      "Iteration: 1\n",
      "Pred: 0.86\n",
      "Error: 0.02\n",
      "Delta: -0.14\n",
      "Weights: [0.1, 0.2, -0.1]\n",
      "Weights_Deltas:[0, -0.09099999999999994, -0.16799999999999987]\n",
      "-------------------------\n",
      "Iteration: 2\n",
      "Pred: 0.938\n",
      "Error: 0.004\n",
      "Delta: -0.062\n",
      "Weights: [0.1, 0.2273, -0.04960000000000005]\n",
      "Weights_Deltas:[0, -0.040153749999999946, -0.07412999999999989]\n",
      "-------------------------\n",
      "Iteration: 3\n",
      "Pred: 0.973\n",
      "Error: 0.001\n",
      "Delta: -0.027\n",
      "Weights: [0.1, 0.239346125, -0.02736100000000008]\n",
      "Weights_Deltas:[0, -0.017717842187500006, -0.032709862500000006]\n",
      "-------------------------\n"
     ]
    }
   ],
   "source": [
    "toes = [8.5, 9.5, 9.9, 9.0]\n",
    "wlrec = [0.65, 0.8, 0.8, 0.9]\n",
    "nfans = [1.2, 1.3, 0.5, 1.0]\n",
    "\n",
    "win_or_lose_binary = [1, 1, 0, 1]\n",
    "true = win_or_lose_binary[0]\n",
    "\n",
    "alpha = 0.3\n",
    "weights = [0.1, 0.2, -.1]\n",
    "input = [toes[0], wlrec[0], nfans[0]]\n",
    "\n",
    "\n",
    "for iter in range(3):\n",
    "    pred = neural_network(input, weights)\n",
    "    error = (pred - true) ** 2\n",
    "    delta = pred - true\n",
    "\n",
    "    # вычисление корректирующего веса\n",
    "    weight_deltas = ele_mul(delta, input)\n",
    "    weight_deltas[0] = 0\n",
    "\n",
    "    print(\"Iteration: \" + str(iter+1))\n",
    "    print(\"Pred: \" + str(round(pred, 3)))\n",
    "    print(\"Error: \" + str(round(error, 3)))\n",
    "    print(\"Delta: \" + str(round(delta, 3)))\n",
    "    print(\"Weights: \" + str(weights))\n",
    "    print(\"Weights_Deltas:\" + str(weight_deltas))\n",
    "    print(\"-------------------------\")\n",
    "    \n",
    "    # корректировка весов\n",
    "    for i in range(len(weights)):\n",
    "        weights[i] -= alpha * weight_deltas[i]"
   ]
  },
  {
   "cell_type": "code",
   "execution_count": 4,
   "id": "5ca30230-f734-418b-af03-4ac8eff9f9ac",
   "metadata": {},
   "outputs": [
    {
     "name": "stdout",
     "output_type": "stream",
     "text": [
      "1.1229167285000001\n",
      "1\n"
     ]
    }
   ],
   "source": [
    "input1 = [toes[1], wlrec[1], nfans[1]]\n",
    "pred = neural_network(input1, weights)\n",
    "print(pred)\n",
    "print(win_or_lose_binary[1])"
   ]
  },
  {
   "cell_type": "code",
   "execution_count": 5,
   "id": "7ddbfbca-c54b-4475-99c0-b8148c467c27",
   "metadata": {},
   "outputs": [
    {
     "name": "stdout",
     "output_type": "stream",
     "text": [
      "1.1769551615000002\n",
      "0\n"
     ]
    }
   ],
   "source": [
    "input2 = [toes[2], wlrec[2], nfans[2]]\n",
    "pred = neural_network(input2, weights)\n",
    "print(pred)\n",
    "print(win_or_lose_binary[2])"
   ]
  },
  {
   "cell_type": "code",
   "execution_count": null,
   "id": "a3055459-c6e1-45e2-a184-80b36f03dce3",
   "metadata": {},
   "outputs": [],
   "source": []
  }
 ],
 "metadata": {
  "kernelspec": {
   "display_name": "Python 3",
   "language": "python",
   "name": "python3"
  },
  "language_info": {
   "codemirror_mode": {
    "name": "ipython",
    "version": 3
   },
   "file_extension": ".py",
   "mimetype": "text/x-python",
   "name": "python",
   "nbconvert_exporter": "python",
   "pygments_lexer": "ipython3",
   "version": "3.8.8"
  }
 },
 "nbformat": 4,
 "nbformat_minor": 5
}
