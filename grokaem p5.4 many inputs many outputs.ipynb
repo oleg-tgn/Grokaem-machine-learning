{
 "cells": [
  {
   "cell_type": "code",
   "execution_count": 10,
   "id": "1f68ea56-6254-4192-aca4-cf257d42520d",
   "metadata": {
    "tags": []
   },
   "outputs": [
    {
     "name": "stdout",
     "output_type": "stream",
     "text": [
      "[0.555, 0.9800000000000001, 0.9650000000000001]\n",
      "[0.45500000000000007, -0.019999999999999907, 0.8650000000000001]\n"
     ]
    }
   ],
   "source": [
    "            #игр # %побед  # болельщики\n",
    "weights = [[0.1,   0.1,    -0.3], # травм ?\n",
    "           [0.1,   0.2,    0.0],  # победа ?\n",
    "           [0.0,   1.3,    0.1]]  # печаль ?\n",
    "\n",
    "def w_sum(a, b):\n",
    "    s = 0\n",
    "    assert(len(a) == len(b))\n",
    "    for i in range(len(a)):\n",
    "        s += a[i]*b[i]\n",
    "    return s\n",
    "\n",
    "\n",
    "def vect_mat_mul(vect, matrix):\n",
    "    assert(len(vect) == len(matrix))\n",
    "    output = [0, 0, 0]\n",
    "    for i in range(len(vect)):\n",
    "        output[i] = w_sum(vect, matrix[i])\n",
    "    return output\n",
    "\n",
    "\n",
    "def neural_network(input, weights):\n",
    "    pred = vect_mat_mul(input, weights)\n",
    "    return pred\n",
    "\n",
    "toes = 8.5\n",
    "wlrec = 0.65\n",
    "nfans = 1.2\n",
    "\n",
    "hurt = 0.1\n",
    "win = 1\n",
    "sad = 0.1\n",
    "\n",
    "alpha = 0.01\n",
    "\n",
    "input = [toes, wlrec, nfans]\n",
    "true  = [hurt, win, sad]\n",
    "\n",
    "pred = neural_network(input, weights)\n",
    "print(pred)\n",
    "error = [0, 0, 0]\n",
    "delta = [0, 0, 0]\n",
    "\n",
    "for i in range(len(true)):\n",
    "    error[i] = (pred[i] - true[i]) ** 2\n",
    "    delta[i] = pred[i] - true[i]\n",
    "   \n",
    "print(delta)"
   ]
  },
  {
   "cell_type": "code",
   "execution_count": 11,
   "id": "1c224371-574e-4588-8c3d-01fb32ed1b0e",
   "metadata": {},
   "outputs": [
    {
     "name": "stdout",
     "output_type": "stream",
     "text": [
      "[[ 3.8675   0.29575  0.546  ]\n",
      " [-0.17    -0.013   -0.024  ]\n",
      " [ 7.3525   0.56225  1.038  ]]\n"
     ]
    }
   ],
   "source": [
    "import numpy as np\n",
    "def outer_prod(a, b):\n",
    "    \n",
    "    # just a matrix of zeros\n",
    "    out = np.zeros((len(a), len(b)))\n",
    "\n",
    "    for i in range(len(a)):\n",
    "        for j in range(len(b)):\n",
    "            out[i][j] = a[i] * b[j]\n",
    "    return out\n",
    "\n",
    "weight_deltas = outer_prod(delta,input)\n",
    "print(weight_deltas)\n",
    "\n",
    "for i in range(len(weights)):\n",
    "    for j in range(len(weights[0])):\n",
    "        weights[i][j] -= alpha * weight_deltas[i][j]"
   ]
  },
  {
   "cell_type": "code",
   "execution_count": 7,
   "id": "b0324f55-7a15-4667-86f4-ee5a8f797c25",
   "metadata": {},
   "outputs": [
    {
     "data": {
      "text/plain": [
       "[[0.061325, 0.0970425, -0.30546],\n",
       " [0.1017, 0.20013, 0.00023999999999999887],\n",
       " [-0.07352500000000001, 1.2943775, 0.08962]]"
      ]
     },
     "execution_count": 7,
     "metadata": {},
     "output_type": "execute_result"
    }
   ],
   "source": [
    "weights"
   ]
  },
  {
   "cell_type": "code",
   "execution_count": null,
   "id": "4d94deac-ad41-44cd-82f5-50f9b2079495",
   "metadata": {},
   "outputs": [],
   "source": []
  }
 ],
 "metadata": {
  "kernelspec": {
   "display_name": "Python 3",
   "language": "python",
   "name": "python3"
  },
  "language_info": {
   "codemirror_mode": {
    "name": "ipython",
    "version": 3
   },
   "file_extension": ".py",
   "mimetype": "text/x-python",
   "name": "python",
   "nbconvert_exporter": "python",
   "pygments_lexer": "ipython3",
   "version": "3.8.8"
  }
 },
 "nbformat": 4,
 "nbformat_minor": 5
}
