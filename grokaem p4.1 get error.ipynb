{
 "cells": [
  {
   "cell_type": "code",
   "execution_count": 2,
   "id": "e9123dbc-952a-4201-aed2-79ed4677d271",
   "metadata": {},
   "outputs": [
    {
     "name": "stdout",
     "output_type": "stream",
     "text": [
      "0.25\n"
     ]
    }
   ],
   "source": [
    "knob_weight = 0.5\n",
    "input = 0.5\n",
    "goal_pred = 0.8\n",
    "\n",
    "pred = input * knob_weight\n",
    "\n",
    "print(pred)"
   ]
  },
  {
   "cell_type": "code",
   "execution_count": 3,
   "id": "cd4cd4cc-b8c4-4bb1-beb3-a58a315b869d",
   "metadata": {},
   "outputs": [],
   "source": [
    "error = (pred - goal_pred) ** 2"
   ]
  },
  {
   "cell_type": "code",
   "execution_count": 4,
   "id": "8aad3a07-6f38-46b6-a122-0f7db909aba8",
   "metadata": {},
   "outputs": [
    {
     "data": {
      "text/plain": [
       "0.30250000000000005"
      ]
     },
     "execution_count": 4,
     "metadata": {},
     "output_type": "execute_result"
    }
   ],
   "source": [
    "error"
   ]
  },
  {
   "cell_type": "code",
   "execution_count": 5,
   "id": "94b7d2ca-4d0d-48c4-a7a0-c3c080a70b1f",
   "metadata": {},
   "outputs": [
    {
     "data": {
      "text/plain": [
       "-0.55"
      ]
     },
     "execution_count": 5,
     "metadata": {},
     "output_type": "execute_result"
    }
   ],
   "source": [
    "pred - goal_pred"
   ]
  },
  {
   "cell_type": "code",
   "execution_count": null,
   "id": "65b10ac6-20c7-4b1c-a391-7ecbc765b539",
   "metadata": {},
   "outputs": [],
   "source": []
  }
 ],
 "metadata": {
  "kernelspec": {
   "display_name": "Python 3",
   "language": "python",
   "name": "python3"
  },
  "language_info": {
   "codemirror_mode": {
    "name": "ipython",
    "version": 3
   },
   "file_extension": ".py",
   "mimetype": "text/x-python",
   "name": "python",
   "nbconvert_exporter": "python",
   "pygments_lexer": "ipython3",
   "version": "3.8.8"
  }
 },
 "nbformat": 4,
 "nbformat_minor": 5
}
