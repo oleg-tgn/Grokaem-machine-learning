{
 "cells": [
  {
   "cell_type": "code",
   "execution_count": 109,
   "id": "fe451409-2ec6-4bc4-892e-4353941d1b15",
   "metadata": {},
   "outputs": [],
   "source": [
    "\n",
    "\n",
    "def neural_network(input, weight):\n",
    "    prediction = input * weight\n",
    "    return prediction\n",
    "\n",
    "\n"
   ]
  },
  {
   "cell_type": "code",
   "execution_count": 111,
   "id": "3068bf01-752a-4f11-9566-8e737d700317",
   "metadata": {},
   "outputs": [
    {
     "name": "stdout",
     "output_type": "stream",
     "text": [
      "Pred: 0.8500000000000001\n",
      "error: 0.022499999999999975\n",
      "delta: -0.1499999999999999\n",
      "weight_delta: -1.2749999999999992\n"
     ]
    }
   ],
   "source": [
    "weight = 0.1\n",
    "alpha = 0.01\n",
    "\n",
    "number_of_toes = [8.5]\n",
    "win_or_lose_binary = [1] # победа\n",
    "\n",
    "input = number_of_toes[0]\n",
    "goal_pred = win_or_lose_binary[0]\n",
    "\n",
    "pred = neural_network(input, weight)\n",
    "\n",
    "error = (pred - goal_pred) ** 2\n",
    "\n",
    "delta = pred - goal_pred # разность на выходе\n",
    "\n",
    "weight_delta = input * delta\n",
    "\n",
    "\n",
    "alpha = 0.01\n",
    "weight -= weight_delta * alpha"
   ]
  },
  {
   "cell_type": "code",
   "execution_count": 106,
   "id": "804f2c03-1d8e-46c0-8ac6-5cdca9ad6e1c",
   "metadata": {},
   "outputs": [
    {
     "data": {
      "text/plain": [
       "0.11275"
      ]
     },
     "execution_count": 106,
     "metadata": {},
     "output_type": "execute_result"
    }
   ],
   "source": [
    "weight"
   ]
  },
  {
   "cell_type": "code",
   "execution_count": 99,
   "id": "4d7ac8fd-fe3b-4461-9114-6769a4b71275",
   "metadata": {},
   "outputs": [
    {
     "data": {
      "text/plain": [
       "-0.1499999999999999"
      ]
     },
     "execution_count": 99,
     "metadata": {},
     "output_type": "execute_result"
    }
   ],
   "source": [
    "delta"
   ]
  },
  {
   "cell_type": "code",
   "execution_count": 97,
   "id": "a7366857-7a0c-4001-b3e6-d9dce6b0ee62",
   "metadata": {},
   "outputs": [
    {
     "data": {
      "text/plain": [
       "0.8500000000000001"
      ]
     },
     "execution_count": 97,
     "metadata": {},
     "output_type": "execute_result"
    }
   ],
   "source": [
    "pred"
   ]
  },
  {
   "cell_type": "code",
   "execution_count": null,
   "id": "8d50d608-23e2-4284-97d3-54623118a5fc",
   "metadata": {},
   "outputs": [],
   "source": []
  }
 ],
 "metadata": {
  "kernelspec": {
   "display_name": "Python 3",
   "language": "python",
   "name": "python3"
  },
  "language_info": {
   "codemirror_mode": {
    "name": "ipython",
    "version": 3
   },
   "file_extension": ".py",
   "mimetype": "text/x-python",
   "name": "python",
   "nbconvert_exporter": "python",
   "pygments_lexer": "ipython3",
   "version": "3.8.8"
  }
 },
 "nbformat": 4,
 "nbformat_minor": 5
}
