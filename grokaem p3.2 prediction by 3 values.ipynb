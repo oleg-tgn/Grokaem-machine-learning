{
 "cells": [
  {
   "cell_type": "code",
   "execution_count": 10,
   "id": "e4bafccc-6f76-4fbc-bcff-bb5ec8d063b8",
   "metadata": {},
   "outputs": [],
   "source": [
    "weight = [0.1, 0.2, 0]\n",
    "\n",
    "def w_sum(a, b):\n",
    "    assert(len(a) == len(b))    \n",
    "    output = 0    \n",
    "    for i in range(len(a)):\n",
    "        output += (a[i] * b[i])\n",
    "    return output\n",
    "\n",
    "\n",
    "def neural_network(input, weight):\n",
    "    prediction = w_sum(input, weight)\n",
    "    return prediction\n",
    "\n"
   ]
  },
  {
   "cell_type": "code",
   "execution_count": 11,
   "id": "8a740b8c-f3ec-47d7-a944-839c05c536a9",
   "metadata": {},
   "outputs": [
    {
     "name": "stdout",
     "output_type": "stream",
     "text": [
      "Прогноз 115%\n"
     ]
    }
   ],
   "source": [
    "toes = [8.5, 9.5, 9.9, 9.0] # среднее число игр\n",
    "wlrec = [0.65, 0.8, 0.8, 0.9] # процент побед\n",
    "nfans = [1.2, 1.3, 0.5, 1.0] # число болельщиков (млн)\n",
    "\n",
    "input = [toes[2], wlrec[2], nfans[2]]\n",
    "\n",
    "pred = neural_network(input, weight)\n",
    "\n",
    "print(f\"Прогноз {(int)(pred * 100)}%\")"
   ]
  },
  {
   "cell_type": "code",
   "execution_count": 12,
   "id": "26d938c5-eb24-491f-b21f-b7cbcfa07796",
   "metadata": {},
   "outputs": [
    {
     "name": "stdout",
     "output_type": "stream",
     "text": [
      "[5.525, 7.6000000000000005, 7.920000000000001, 8.1]\n"
     ]
    }
   ],
   "source": [
    "def elementtwise_multiplication(vec_a, vec_b):\n",
    "    assert(len(vec_a) == len(vec_b))\n",
    "    vec_output = []\n",
    "    for i in range(len(vec_a)):\n",
    "        vec_output.append(vec_a[i] * vec_b[i])\n",
    "    return vec_output\n",
    "\n",
    "mult = elementtwise_multiplication(toes, wlrec)\n",
    "print(mult)\n"
   ]
  },
  {
   "cell_type": "code",
   "execution_count": 13,
   "id": "c2309cef-0567-455c-8788-ae97b815e703",
   "metadata": {},
   "outputs": [
    {
     "name": "stdout",
     "output_type": "stream",
     "text": [
      "[9.15, 10.3, 10.700000000000001, 9.9]\n"
     ]
    }
   ],
   "source": [
    "def elementtwise_addition(vec_a, vec_b):\n",
    "    assert(len(vec_a) == len(vec_b))\n",
    "    vec_output = []\n",
    "    for i in range(len(vec_a)):\n",
    "        vec_output.append(vec_a[i] + vec_b[i])\n",
    "    return vec_output\n",
    "\n",
    "add = elementtwise_addition(toes, wlrec)\n",
    "print(add)"
   ]
  },
  {
   "cell_type": "code",
   "execution_count": 14,
   "id": "9e5afd67-efc6-4375-baff-0b493ad68581",
   "metadata": {},
   "outputs": [
    {
     "name": "stdout",
     "output_type": "stream",
     "text": [
      "36.9\n"
     ]
    }
   ],
   "source": [
    "def vector_sum(vec_a):\n",
    "    output = 0\n",
    "    for el in vec_a:\n",
    "        output += el\n",
    "    return output\n",
    "\n",
    "vec_sum = vector_sum(toes)\n",
    "print(vec_sum)"
   ]
  },
  {
   "cell_type": "code",
   "execution_count": 18,
   "id": "4adf6cf3-7ab2-4d25-b4a0-1bc11e8d48b7",
   "metadata": {},
   "outputs": [
    {
     "name": "stdout",
     "output_type": "stream",
     "text": [
      "9.225\n"
     ]
    }
   ],
   "source": [
    "def vector_average(vec_a):\n",
    "    output = 0\n",
    "    for el in vec_a:\n",
    "        output += el\n",
    "    return output / len(vec_a)\n",
    "\n",
    "vec_average = vector_average(toes)\n",
    "print(vec_average)"
   ]
  },
  {
   "cell_type": "code",
   "execution_count": 17,
   "id": "2ed43551-9206-4716-b190-d7e560d399ab",
   "metadata": {},
   "outputs": [
    {
     "name": "stdout",
     "output_type": "stream",
     "text": [
      "29.145000000000003\n"
     ]
    }
   ],
   "source": [
    "skalar_multiple = vector_sum(elementtwise_multiplication(toes, wlrec))\n",
    "print(skalar_multiple)"
   ]
  },
  {
   "cell_type": "code",
   "execution_count": null,
   "id": "4202d754-2ae9-4e17-9383-b1791b6ffa55",
   "metadata": {},
   "outputs": [],
   "source": []
  },
  {
   "cell_type": "code",
   "execution_count": null,
   "id": "5974a2e7-078b-4015-ba23-c792481b0655",
   "metadata": {},
   "outputs": [],
   "source": []
  },
  {
   "cell_type": "code",
   "execution_count": null,
   "id": "da6a62c9-1b15-4eaa-84a3-faa7392e2d6c",
   "metadata": {},
   "outputs": [],
   "source": []
  },
  {
   "cell_type": "code",
   "execution_count": null,
   "id": "695cacd7-b92b-4ce5-a5ca-a945b4107f4b",
   "metadata": {},
   "outputs": [],
   "source": []
  },
  {
   "cell_type": "code",
   "execution_count": null,
   "id": "65e1ea8e-d8d9-4c4a-bb34-a1f70f8bf501",
   "metadata": {},
   "outputs": [],
   "source": []
  }
 ],
 "metadata": {
  "kernelspec": {
   "display_name": "Python 3",
   "language": "python",
   "name": "python3"
  },
  "language_info": {
   "codemirror_mode": {
    "name": "ipython",
    "version": 3
   },
   "file_extension": ".py",
   "mimetype": "text/x-python",
   "name": "python",
   "nbconvert_exporter": "python",
   "pygments_lexer": "ipython3",
   "version": "3.8.8"
  }
 },
 "nbformat": 4,
 "nbformat_minor": 5
}
